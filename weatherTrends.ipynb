{
 "cells": [
  {
   "cell_type": "markdown",
   "metadata": {},
   "source": [
    "# Analysis of weather trends in Rochester"
   ]
  },
  {
   "cell_type": "code",
   "execution_count": 1,
   "metadata": {},
   "outputs": [],
   "source": [
    "import pandas as pd\n",
    "import matplotlib.pyplot as plt"
   ]
  },
  {
   "cell_type": "markdown",
   "metadata": {},
   "source": [
    "### Importing CSV files using pandas"
   ]
  },
  {
   "cell_type": "code",
   "execution_count": 2,
   "metadata": {},
   "outputs": [
    {
     "name": "stdout",
     "output_type": "stream",
     "text": [
      "   year     city        country  avg_temp\n",
      "0  1849  Abidjan  Côte D'Ivoire     25.58\n",
      "1  1850  Abidjan  Côte D'Ivoire     25.52\n",
      "2  1851  Abidjan  Côte D'Ivoire     25.67\n",
      "3  1852  Abidjan  Côte D'Ivoire       NaN\n",
      "4  1853  Abidjan  Côte D'Ivoire       NaN\n"
     ]
    }
   ],
   "source": [
    "city_data = pd.read_csv(\"city_data.csv\")\n",
    "print(city_data.head())\n"
   ]
  },
  {
   "cell_type": "code",
   "execution_count": 3,
   "metadata": {},
   "outputs": [
    {
     "name": "stdout",
     "output_type": "stream",
     "text": [
      "   year  avg_temp\n",
      "0  1750      8.72\n",
      "1  1751      7.98\n",
      "2  1752      5.78\n",
      "3  1753      8.39\n",
      "4  1754      8.47\n"
     ]
    }
   ],
   "source": [
    "global_data = pd.read_csv(\"global_data.csv\")\n",
    "print(global_data.head())"
   ]
  },
  {
   "cell_type": "code",
   "execution_count": 4,
   "metadata": {},
   "outputs": [
    {
     "name": "stdout",
     "output_type": "stream",
     "text": [
      "        city               country\n",
      "0    Abidjan         Côte D'Ivoire\n",
      "1  Abu Dhabi  United Arab Emirates\n",
      "2      Abuja               Nigeria\n",
      "3      Accra                 Ghana\n",
      "4      Adana                Turkey\n"
     ]
    }
   ],
   "source": [
    "city_list = pd.read_csv(\"city_list.csv\")\n",
    "print(city_list.head())"
   ]
  },
  {
   "cell_type": "markdown",
   "metadata": {},
   "source": [
    "Number of unique cities"
   ]
  },
  {
   "cell_type": "code",
   "execution_count": 5,
   "metadata": {},
   "outputs": [
    {
     "name": "stdout",
     "output_type": "stream",
     "text": [
      "332\n"
     ]
    }
   ],
   "source": [
    "nunique_cities = city_list.city.nunique()\n",
    "print(nunique_cities)"
   ]
  },
  {
   "cell_type": "markdown",
   "metadata": {},
   "source": [
    "Check if New York exists in the list"
   ]
  },
  {
   "cell_type": "code",
   "execution_count": 6,
   "metadata": {},
   "outputs": [
    {
     "name": "stdout",
     "output_type": "stream",
     "text": [
      "         city        country\n",
      "225  New York  United States\n"
     ]
    }
   ],
   "source": [
    "newyorkExists = city_list[city_list.city == \"New York\"]\n",
    "print(newyorkExists)"
   ]
  },
  {
   "cell_type": "markdown",
   "metadata": {},
   "source": [
    "Creating a data frame containing weather data for New York"
   ]
  },
  {
   "cell_type": "code",
   "execution_count": 23,
   "metadata": {},
   "outputs": [
    {
     "name": "stdout",
     "output_type": "stream",
     "text": [
      "266\n"
     ]
    }
   ],
   "source": [
    "nyWeather = city_data.loc[(city_data.city == \"New York\")&(city_data.avg_temp.notnull())]\n",
    "print(len(nyWeather))"
   ]
  },
  {
   "cell_type": "code",
   "execution_count": 24,
   "metadata": {},
   "outputs": [],
   "source": [
    "nyWeather = nyWeather.sort_values('year')\n",
    "\n",
    "\n"
   ]
  },
  {
   "cell_type": "code",
   "execution_count": 25,
   "metadata": {},
   "outputs": [
    {
     "name": "stdout",
     "output_type": "stream",
     "text": [
      "       year      city        country  avg_temp\n",
      "46341  1743  New York  United States      3.26\n",
      "46342  1744  New York  United States     11.66\n",
      "46343  1745  New York  United States      1.13\n",
      "46348  1750  New York  United States     10.07\n",
      "46349  1751  New York  United States     10.79\n"
     ]
    }
   ],
   "source": [
    "print(nyWeather.head())"
   ]
  },
  {
   "cell_type": "code",
   "execution_count": 26,
   "metadata": {},
   "outputs": [],
   "source": [
    "nyWeather['moving_average'] = nyWeather.avg_temp.rolling(7).mean()"
   ]
  },
  {
   "cell_type": "code",
   "execution_count": 27,
   "metadata": {},
   "outputs": [
    {
     "name": "stdout",
     "output_type": "stream",
     "text": [
      "       year      city        country  avg_temp  moving_average\n",
      "46341  1743  New York  United States      3.26             NaN\n",
      "46342  1744  New York  United States     11.66             NaN\n",
      "46343  1745  New York  United States      1.13             NaN\n",
      "46348  1750  New York  United States     10.07             NaN\n",
      "46349  1751  New York  United States     10.79             NaN\n"
     ]
    }
   ],
   "source": [
    "print(nyWeather.head())"
   ]
  },
  {
   "cell_type": "code",
   "execution_count": 28,
   "metadata": {},
   "outputs": [
    {
     "name": "stdout",
     "output_type": "stream",
     "text": [
      "   year  avg_temp  moving_average\n",
      "0  1750      8.72             NaN\n",
      "1  1751      7.98             NaN\n",
      "2  1752      5.78             NaN\n",
      "3  1753      8.39             NaN\n",
      "4  1754      8.47             NaN\n"
     ]
    }
   ],
   "source": [
    "clean_global_data = global_data.loc[global_data.avg_temp.notnull()]\n",
    "clean_global_data['moving_average'] = clean_global_data.avg_temp.rolling(7).mean()\n",
    "print(clean_global_data.head())"
   ]
  },
  {
   "cell_type": "markdown",
   "metadata": {},
   "source": [
    "## Line graph of Global temp vs NewYork temp\n"
   ]
  },
  {
   "cell_type": "code",
   "execution_count": 29,
   "metadata": {},
   "outputs": [
    {
     "name": "stderr",
     "output_type": "stream",
     "text": [
      "/Users/command/anaconda3/lib/python3.6/site-packages/matplotlib/cbook/deprecation.py:107: MatplotlibDeprecationWarning: Adding an axes using the same arguments as a previous axes currently reuses the earlier instance.  In a future version, a new instance will always be created and returned.  Meanwhile, this warning can be suppressed, and the future behavior ensured, by passing a unique label to each axes instance.\n",
      "  warnings.warn(message, mplDeprecation, stacklevel=1)\n"
     ]
    },
    {
     "data": {
      "image/png": "[encoded data removed]",
      "text/plain": [
       "<Figure size 432x288 with 1 Axes>"
      ]
     },
     "metadata": {},
     "output_type": "display_data"
    }
   ],
   "source": [
    "plt.figure()\n",
    "plt.plot(clean_global_data['year'], clean_global_data['moving_average'], label=\"Global Temperature\")\n",
    "plt.plot(nyWeather['year'], nyWeather['moving_average'], label=\"New York Temperature\")\n",
    "plt.xlabel(\"Year\")\n",
    "plt.ylabel(\"Temperature\")\n",
    "plt.legend()\n",
    "ax = plt.subplot()\n",
    "#ax.set_xticks(range(1,7))e\n",
    "#ax.set_xticklabels(clean_global_data['year'])\n",
    "plt.savefig(\"global_vs_ny\")\n",
    "plt.show()\n"
   ]
  },
  {
   "cell_type": "code",
   "execution_count": 30,
   "metadata": {},
   "outputs": [
    {
     "name": "stdout",
     "output_type": "stream",
     "text": [
      "0.7310703144258599\n"
     ]
    }
   ],
   "source": [
    "cc = clean_global_data['year'].corr(clean_global_data['moving_average'])\n",
    "print(cc)"
   ]
  },
  {
   "cell_type": "code",
   "execution_count": null,
   "metadata": {},
   "outputs": [],
   "source": []
  }
 ],
 "metadata": {
  "kernelspec": {
   "display_name": "Python 3",
   "language": "python",
   "name": "python3"
  },
  "language_info": {
   "codemirror_mode": {
    "name": "ipython",
    "version": 3
   },
   "file_extension": ".py",
   "mimetype": "text/x-python",
   "name": "python",
   "nbconvert_exporter": "python",
   "pygments_lexer": "ipython3",
   "version": "3.6.5"
  }
 },
 "nbformat": 4,
 "nbformat_minor": 2
}
