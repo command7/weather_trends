{
 "cells": [
  {
   "cell_type": "markdown",
   "metadata": {},
   "source": [
    "# Analysis of weather trends in Rochester"
   ]
  },
  {
   "cell_type": "code",
   "execution_count": 8,
   "metadata": {},
   "outputs": [],
   "source": [
    "import pandas as pd"
   ]
  },
  {
   "cell_type": "markdown",
   "metadata": {},
   "source": [
    "## Importing CSV files using pandas"
   ]
  },
  {
   "cell_type": "code",
   "execution_count": 7,
   "metadata": {},
   "outputs": [
    {
     "name": "stdout",
     "output_type": "stream",
     "text": [
      "   year     city        country  avg_temp\n",
      "0  1849  Abidjan  Côte D'Ivoire     25.58\n",
      "1  1850  Abidjan  Côte D'Ivoire     25.52\n",
      "2  1851  Abidjan  Côte D'Ivoire     25.67\n",
      "3  1852  Abidjan  Côte D'Ivoire       NaN\n",
      "4  1853  Abidjan  Côte D'Ivoire       NaN\n"
     ]
    }
   ],
   "source": [
    "city_data = pd.read_csv(\"city_data.csv\")\n",
    "print(city_data.head())\n"
   ]
  },
  {
   "cell_type": "code",
   "execution_count": 4,
   "metadata": {},
   "outputs": [
    {
     "name": "stdout",
     "output_type": "stream",
     "text": [
      "   year  avg_temp\n",
      "0  1750      8.72\n",
      "1  1751      7.98\n",
      "2  1752      5.78\n",
      "3  1753      8.39\n",
      "4  1754      8.47\n"
     ]
    }
   ],
   "source": [
    "global_data = pd.read_csv(\"global_data.csv\")\n",
    "print(global_data.head())"
   ]
  },
  {
   "cell_type": "code",
   "execution_count": 5,
   "metadata": {},
   "outputs": [
    {
     "name": "stdout",
     "output_type": "stream",
     "text": [
      "        city               country\n",
      "0    Abidjan         Côte D'Ivoire\n",
      "1  Abu Dhabi  United Arab Emirates\n",
      "2      Abuja               Nigeria\n",
      "3      Accra                 Ghana\n",
      "4      Adana                Turkey\n"
     ]
    }
   ],
   "source": [
    "city_list = pd.read_csv(\"city_list.csv\")\n",
    "print(city_list.head())"
   ]
  },
  {
   "cell_type": "code",
   "execution_count": null,
   "metadata": {},
   "outputs": [],
   "source": []
  }
 ],
 "metadata": {
  "kernelspec": {
   "display_name": "Python 3",
   "language": "python",
   "name": "python3"
  },
  "language_info": {
   "codemirror_mode": {
    "name": "ipython",
    "version": 3
   },
   "file_extension": ".py",
   "mimetype": "text/x-python",
   "name": "python",
   "nbconvert_exporter": "python",
   "pygments_lexer": "ipython3",
   "version": "3.6.5"
  }
 },
 "nbformat": 4,
 "nbformat_minor": 2
}
