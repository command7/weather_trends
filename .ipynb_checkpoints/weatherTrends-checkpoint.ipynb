{
 "cells": [
  {
   "cell_type": "markdown",
   "metadata": {},
   "source": [
    "# Analysis of weather trends in Rochester"
   ]
  },
  {
   "cell_type": "code",
   "execution_count": 97,
   "metadata": {},
   "outputs": [],
   "source": [
    "import pandas as pd\n",
    "import matplotlib.pyplot as plt"
   ]
  },
  {
   "cell_type": "markdown",
   "metadata": {},
   "source": [
    "### Importing CSV files using pandas"
   ]
  },
  {
   "cell_type": "code",
   "execution_count": 98,
   "metadata": {},
   "outputs": [
    {
     "name": "stdout",
     "output_type": "stream",
     "text": [
      "   year     city        country  avg_temp\n",
      "0  1849  Abidjan  Côte D'Ivoire     25.58\n",
      "1  1850  Abidjan  Côte D'Ivoire     25.52\n",
      "2  1851  Abidjan  Côte D'Ivoire     25.67\n",
      "3  1852  Abidjan  Côte D'Ivoire       NaN\n",
      "4  1853  Abidjan  Côte D'Ivoire       NaN\n"
     ]
    }
   ],
   "source": [
    "city_data = pd.read_csv(\"city_data.csv\")\n",
    "print(city_data.head())\n"
   ]
  },
  {
   "cell_type": "code",
   "execution_count": 99,
   "metadata": {},
   "outputs": [
    {
     "name": "stdout",
     "output_type": "stream",
     "text": [
      "   year  avg_temp\n",
      "0  1750      8.72\n",
      "1  1751      7.98\n",
      "2  1752      5.78\n",
      "3  1753      8.39\n",
      "4  1754      8.47\n"
     ]
    }
   ],
   "source": [
    "global_data = pd.read_csv(\"global_data.csv\")\n",
    "print(global_data.head())"
   ]
  },
  {
   "cell_type": "code",
   "execution_count": 100,
   "metadata": {},
   "outputs": [
    {
     "name": "stdout",
     "output_type": "stream",
     "text": [
      "        city               country\n",
      "0    Abidjan         Côte D'Ivoire\n",
      "1  Abu Dhabi  United Arab Emirates\n",
      "2      Abuja               Nigeria\n",
      "3      Accra                 Ghana\n",
      "4      Adana                Turkey\n"
     ]
    }
   ],
   "source": [
    "city_list = pd.read_csv(\"city_list.csv\")\n",
    "print(city_list.head())"
   ]
  },
  {
   "cell_type": "markdown",
   "metadata": {},
   "source": [
    "Number of unique cities"
   ]
  },
  {
   "cell_type": "code",
   "execution_count": 101,
   "metadata": {},
   "outputs": [
    {
     "name": "stdout",
     "output_type": "stream",
     "text": [
      "332\n"
     ]
    }
   ],
   "source": [
    "nunique_cities = city_list.city.nunique()\n",
    "print(nunique_cities)"
   ]
  },
  {
   "cell_type": "markdown",
   "metadata": {},
   "source": [
    "Check if New York exists in the list"
   ]
  },
  {
   "cell_type": "code",
   "execution_count": 102,
   "metadata": {},
   "outputs": [
    {
     "name": "stdout",
     "output_type": "stream",
     "text": [
      "         city        country\n",
      "225  New York  United States\n"
     ]
    }
   ],
   "source": [
    "newyorkExists = city_list[city_list.city == \"New York\"]\n",
    "print(newyorkExists)"
   ]
  },
  {
   "cell_type": "markdown",
   "metadata": {},
   "source": [
    "Creating a data frame containing weather data for New York"
   ]
  },
  {
   "cell_type": "code",
   "execution_count": 103,
   "metadata": {},
   "outputs": [
    {
     "name": "stdout",
     "output_type": "stream",
     "text": [
      "266\n"
     ]
    }
   ],
   "source": [
    "nyWeather = city_data.loc[(city_data.city == \"New York\")&(city_data.avg_temp.notnull())]\n",
    "print(len(nyWeather))"
   ]
  },
  {
   "cell_type": "code",
   "execution_count": 104,
   "metadata": {},
   "outputs": [],
   "source": [
    "nyWeather = nyWeather.sort_values('year')\n",
    "\n",
    "\n"
   ]
  },
  {
   "cell_type": "code",
   "execution_count": 105,
   "metadata": {},
   "outputs": [
    {
     "name": "stdout",
     "output_type": "stream",
     "text": [
      "       year      city        country  avg_temp\n",
      "46341  1743  New York  United States      3.26\n",
      "46342  1744  New York  United States     11.66\n",
      "46343  1745  New York  United States      1.13\n",
      "46348  1750  New York  United States     10.07\n",
      "46349  1751  New York  United States     10.79\n"
     ]
    }
   ],
   "source": [
    "print(nyWeather.head())"
   ]
  },
  {
   "cell_type": "code",
   "execution_count": 106,
   "metadata": {},
   "outputs": [],
   "source": [
    "nyWeather['moving_average'] = nyWeather.avg_temp.rolling(3).mean()"
   ]
  },
  {
   "cell_type": "code",
   "execution_count": 107,
   "metadata": {},
   "outputs": [
    {
     "name": "stdout",
     "output_type": "stream",
     "text": [
      "       year      city        country  avg_temp  moving_average\n",
      "46341  1743  New York  United States      3.26             NaN\n",
      "46342  1744  New York  United States     11.66             NaN\n",
      "46343  1745  New York  United States      1.13            5.35\n",
      "46348  1750  New York  United States     10.07            7.62\n",
      "46349  1751  New York  United States     10.79            7.33\n"
     ]
    }
   ],
   "source": [
    "print(nyWeather.head())"
   ]
  },
  {
   "cell_type": "code",
   "execution_count": 108,
   "metadata": {},
   "outputs": [
    {
     "name": "stdout",
     "output_type": "stream",
     "text": [
      "   year  avg_temp  moving_average\n",
      "0  1750      8.72             NaN\n",
      "1  1751      7.98             NaN\n",
      "2  1752      5.78        7.493333\n",
      "3  1753      8.39        7.383333\n",
      "4  1754      8.47        7.546667\n"
     ]
    }
   ],
   "source": [
    "clean_global_data = global_data.loc[global_data.avg_temp.notnull()]\n",
    "clean_global_data['moving_average'] = clean_global_data.avg_temp.rolling(3).mean()\n",
    "print(clean_global_data.head())"
   ]
  },
  {
   "cell_type": "markdown",
   "metadata": {},
   "source": [
    "## Line graph of Global temp vs NewYork temp\n"
   ]
  },
  {
   "cell_type": "raw",
   "metadata": {},
   "source": [
    "plt.figure()\n",
    "plt.plot(range(len(clean_global_data)), clean_global_data['avg_temp])\n",
    "plt.show()"
   ]
  },
  {
   "cell_type": "code",
   "execution_count": null,
   "metadata": {},
   "outputs": [],
   "source": []
  }
 ],
 "metadata": {
  "kernelspec": {
   "display_name": "Python 3",
   "language": "python",
   "name": "python3"
  },
  "language_info": {
   "codemirror_mode": {
    "name": "ipython",
    "version": 3
   },
   "file_extension": ".py",
   "mimetype": "text/x-python",
   "name": "python",
   "nbconvert_exporter": "python",
   "pygments_lexer": "ipython3",
   "version": "3.6.5"
  }
 },
 "nbformat": 4,
 "nbformat_minor": 2
}
